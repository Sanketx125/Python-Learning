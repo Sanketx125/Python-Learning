{
 "cells": [
  {
   "cell_type": "markdown",
   "id": "f39af1b4-a1d2-4424-9109-48f3d0193675",
   "metadata": {},
   "source": [
    "\n",
    "\n",
    "# program to check given number is opisive or negative."
   ]
  },
  {
   "cell_type": "code",
   "execution_count": 5,
   "id": "ce965d2b-1073-47d4-979b-1b6417eba799",
   "metadata": {},
   "outputs": [
    {
     "name": "stdin",
     "output_type": "stream",
     "text": [
      "Enter a Number :  0\n"
     ]
    },
    {
     "name": "stdout",
     "output_type": "stream",
     "text": [
      "Result -  Zero is specail number which can not cotain any sign\n"
     ]
    }
   ],
   "source": [
    "a = float(input(\"Enter a Number : \"))\n",
    "\n",
    "if a >= 1:\n",
    "    print(\"Result -  Number is positive.\")\n",
    "elif (a == 0):\n",
    "    print(\"Result -  Zero is specail number which can not cotain any sign\")\n",
    "else:\n",
    "    print(\"Result -  Number is Negative.\")"
   ]
  },
  {
   "cell_type": "markdown",
   "id": "9cc7f02c-5a1b-41aa-b00a-cec58b560bc5",
   "metadata": {},
   "source": [
    "# program to check given number is odd or even."
   ]
  },
  {
   "cell_type": "code",
   "execution_count": 8,
   "id": "8e2ad68e-e4ce-4904-ae65-da73ecdbe58f",
   "metadata": {},
   "outputs": [
    {
     "name": "stdin",
     "output_type": "stream",
     "text": [
      "Enter a Number  :  0\n"
     ]
    },
    {
     "name": "stdout",
     "output_type": "stream",
     "text": [
      "Result - Zero is not even or not odd\n"
     ]
    }
   ],
   "source": [
    "a = float(input(\"Enter a Number  : \"))\n",
    "\n",
    "if a == 0:\n",
    "    print(\"Result - Zero is not even or not odd\")\n",
    "elif (a%2 ==0) :\n",
    "    print(\"Result - Even Number\")\n",
    "else:\n",
    "    print(\"Result - Odd Number\")"
   ]
  },
  {
   "cell_type": "markdown",
   "id": "6d0528a1-66fc-4f91-8388-cf89b68d0f83",
   "metadata": {},
   "source": [
    "# program to ckeck the entered string is palindrom or not.\n",
    "-------------\n",
    "method - I\n",
    "-"
   ]
  },
  {
   "cell_type": "code",
   "execution_count": 12,
   "id": "dc56aa2a-82f6-41d2-b0ad-357f5384c54e",
   "metadata": {},
   "outputs": [
    {
     "name": "stdin",
     "output_type": "stream",
     "text": [
      "Enter a String  :  12321\n"
     ]
    },
    {
     "name": "stdout",
     "output_type": "stream",
     "text": [
      "Result - Palindrom String\n"
     ]
    }
   ],
   "source": [
    "a = input(\"Enter a String  : \")\n",
    "\n",
    "b = a[::-1]\n",
    "if (a == b):\n",
    "    print(\"Result - Palindrom String\")\n",
    "else:\n",
    "    print(\"Result - Not Palindrom String\")"
   ]
  },
  {
   "cell_type": "markdown",
   "id": "cef896be-0e96-47b9-b41e-1a76e5859cbb",
   "metadata": {},
   "source": [
    "\n",
    "method - II\n",
    "------------"
   ]
  },
  {
   "cell_type": "code",
   "execution_count": 14,
   "id": "001bc915-f2c0-4238-8031-50b60c03e290",
   "metadata": {},
   "outputs": [
    {
     "name": "stdin",
     "output_type": "stream",
     "text": [
      "Enter a string :  12321\n"
     ]
    },
    {
     "name": "stdout",
     "output_type": "stream",
     "text": [
      "Result - Palindrom String\n"
     ]
    }
   ],
   "source": [
    "a = input('Enter a string : ')\n",
    "\n",
    "rev = \"\"\n",
    "for i in a:\n",
    "    rev = i + rev\n",
    "\n",
    "if (a == rev):\n",
    "    print(\"Result - Palindrom String\")\n",
    "else:\n",
    "    print(\"Result - Not Palindrom String\")"
   ]
  },
  {
   "cell_type": "markdown",
   "id": "06cbfa35-d3af-40fd-90a0-c0474b718bec",
   "metadata": {},
   "source": [
    "Basic Exercise - calculator match case\n",
    "-"
   ]
  },
  {
   "cell_type": "code",
   "execution_count": 17,
   "id": "5a306831-6400-4ed3-bbb2-e0aa110819e0",
   "metadata": {},
   "outputs": [
    {
     "name": "stdin",
     "output_type": "stream",
     "text": [
      "No.1 :  12\n",
      "No.2 :  0\n",
      "Enter a Operation :  /\n"
     ]
    },
    {
     "name": "stdout",
     "output_type": "stream",
     "text": [
      "not divisible with zero\n"
     ]
    }
   ],
   "source": [
    "a = float(input('No.1 : '))\n",
    "b = float(input('No.2 : '))\n",
    "\n",
    "opr  = input(\"Enter a Operation : \")\n",
    "\n",
    "if opr in ['+', '-', '*', '/', '//', '%']:\n",
    "\n",
    "    match opr:\n",
    "        case '+':\n",
    "            print(\"additon : \", a+b)\n",
    "            \n",
    "        case '-':\n",
    "            print(\"subtraction : \", a-b)\n",
    "            \n",
    "        case '*':\n",
    "            print(\"multiplication : \", a*b)\n",
    "            \n",
    "        case '/':\n",
    "            if b ==0:\n",
    "                print(\"not divisible with zero\")\n",
    "            else:\n",
    "                print(\"divion : \", a/b)\n",
    "                \n",
    "        case '//':\n",
    "            if b ==0:\n",
    "                print(\"not divisible with zero\")\n",
    "            else:\n",
    "                print(\"floor division : \", a//b)\n",
    "                \n",
    "        case '%':\n",
    "            if b ==0:\n",
    "                print(\"not divisible with zero\")\n",
    "            else:\n",
    "                print(\"modules : \", a%b)\n",
    "else:\n",
    "    print(\"Please Enter encorrect operation.\")"
   ]
  },
  {
   "cell_type": "markdown",
   "id": "417b595b-b8c9-47e7-8164-627ef1ac1022",
   "metadata": {},
   "source": [
    "addtion of n numbers using function.\n",
    "-"
   ]
  },
  {
   "cell_type": "code",
   "execution_count": 30,
   "id": "60f6835e-2530-417d-a702-660a6be8883a",
   "metadata": {},
   "outputs": [
    {
     "name": "stdin",
     "output_type": "stream",
     "text": [
      "Enter a No. : 10\n"
     ]
    },
    {
     "name": "stdout",
     "output_type": "stream",
     "text": [
      "addition :  55\n"
     ]
    }
   ],
   "source": [
    "def addition(n):\n",
    "    sum = 0\n",
    "    for i in range(1,n+1):\n",
    "        sum = i + sum\n",
    "    return sum\n",
    "\n",
    "a = int(input(\"Enter a No. :\"))\n",
    "result = addition(a)\n",
    "print(\"addition : \", result)"
   ]
  },
  {
   "cell_type": "markdown",
   "id": "142c0858-816e-4337-954a-908f05b92fb2",
   "metadata": {},
   "source": [
    "calculator using function and match case function.\n",
    "-"
   ]
  },
  {
   "cell_type": "code",
   "execution_count": 33,
   "id": "79301550-dc26-45a6-a1b5-855af890b04c",
   "metadata": {},
   "outputs": [
    {
     "name": "stdin",
     "output_type": "stream",
     "text": [
      "No.1 :  5\n",
      "No.2 :  2\n",
      "Enter a Operation :  *\n"
     ]
    },
    {
     "name": "stdout",
     "output_type": "stream",
     "text": [
      "10.0\n"
     ]
    }
   ],
   "source": [
    "def additon(a,b):\n",
    "    sum = a+b\n",
    "    return sum\n",
    "\n",
    "def subtraction(a,b):\n",
    "    sum = a-b\n",
    "    return sum\n",
    "\n",
    "def multiplication(a,b):\n",
    "    sum = a*b\n",
    "    return sum\n",
    "\n",
    "def divion ( a, b):\n",
    "    sum = a/b\n",
    "    print( sum)\n",
    "\n",
    "def floor_division(a,b):\n",
    "    sum = a//b\n",
    "    print(sum)\n",
    "    \n",
    "def modules(a,b):\n",
    "    sum = a%b\n",
    "    print(sum)\n",
    "\n",
    "a = float(input('No.1 : '))\n",
    "b = float(input('No.2 : '))\n",
    "\n",
    "opr  = input(\"Enter a Operation : \")\n",
    "\n",
    "if opr in ['+', '-', '*', '/', '//', '%']:\n",
    "\n",
    "    match opr:\n",
    "        case '+':\n",
    "            print( additon(a, b))\n",
    "            \n",
    "        case '-':\n",
    "            print( subtraction(a, b)) \n",
    "            \n",
    "        case '*':\n",
    "            print( multiplication(a, b))\n",
    "            \n",
    "        case '/':\n",
    "            if b ==0:\n",
    "                print(\"not divisible with zero\")\n",
    "            else:\n",
    "                divion ( a, b)\n",
    "                \n",
    "        case '//':\n",
    "            if b ==0:\n",
    "                print(\"not divisible with zero\")\n",
    "            else:\n",
    "                floor_division(a, b)\n",
    "                \n",
    "        case '%':\n",
    "            if b ==0:\n",
    "                print(\"not divisible with zero\")\n",
    "            else:\n",
    "                modules (a, b)\n",
    "else:\n",
    "    print(\"Please Enter encorrect operation.\")"
   ]
  },
  {
   "cell_type": "markdown",
   "id": "b4e56202-ed43-42e5-bc16-d731795cf8ea",
   "metadata": {},
   "source": [
    "greatest number of given three numbers.\n",
    "-"
   ]
  },
  {
   "cell_type": "code",
   "execution_count": null,
   "id": "8c164b19-8574-46f1-9a90-33e03fbba9c7",
   "metadata": {},
   "outputs": [],
   "source": [
    "a = int(input(\"NO.1 : \"))\n",
    "b = int(input(\"NO.2 : \"))\n",
    "c = int(input(\"NO.3 : \"))\n",
    "\n",
    "if (a>b):\n",
    "    if (a>c):\n",
    "        print(a, \" is greatest number.\")\n",
    "    else:\n",
    "        print(c, \" is greatest number.\")\n",
    "        \n",
    "else:\n",
    "    if (b<c):\n",
    "        print(c, \" is greatest number.\")\n",
    "    else:\n",
    "        print(b, \" is greatest number.\")\n"
   ]
  },
  {
   "cell_type": "code",
   "execution_count": null,
   "id": "ac28fe58-1f65-4af8-8fb4-faf5bea73f23",
   "metadata": {},
   "outputs": [],
   "source": []
  }
 ],
 "metadata": {
  "kernelspec": {
   "display_name": "Python 3 (ipykernel)",
   "language": "python",
   "name": "python3"
  },
  "language_info": {
   "codemirror_mode": {
    "name": "ipython",
    "version": 3
   },
   "file_extension": ".py",
   "mimetype": "text/x-python",
   "name": "python",
   "nbconvert_exporter": "python",
   "pygments_lexer": "ipython3",
   "version": "3.12.4"
  }
 },
 "nbformat": 4,
 "nbformat_minor": 5
}
